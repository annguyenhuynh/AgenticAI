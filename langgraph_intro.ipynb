{
 "cells": [
  {
   "cell_type": "markdown",
   "metadata": {},
   "source": [
    "## 1. Why do we need RAG (Retrieval Augmented Generation)?\n",
    "\n",
    "* Avoid the halluciation of the LLM model by:\n",
    "    * Providing external data (our data source may not provide enough context to the model)\n",
    "    * Plug-in domain-knowledge base to generate context-aware answer\n",
    "* Avoid retraining the whole model, just need to update the external knowledge base\n",
    "* Pipeline:\n",
    "    * Data source --> database --> chunking and embedding --> vector db --> provide relevant data to LLM model.\n",
    "    * Inside the vector db, we perform similarity search"
   ]
  },
  {
   "cell_type": "markdown",
   "metadata": {},
   "source": [
    "## 2. Agents (https://www.ibm.com/think/topics/ai-agents-vs-ai-assistants#7281536)\n",
    "\n",
    "* An AI agent refers to a system or program that can autonomously complete tasks on behalf of users or another system by designing its own workflow and by using available tools.\n",
    "\n",
    "* AI agents can encompass a wide range of functions beyond NLP. These include decision-making, problem-solving, interacting with external environments and executing actions. "
   ]
  },
  {
   "cell_type": "markdown",
   "metadata": {},
   "source": []
  }
 ],
 "metadata": {
  "kernelspec": {
   "display_name": "base",
   "language": "python",
   "name": "python3"
  },
  "language_info": {
   "name": "python",
   "version": "3.12.7"
  }
 },
 "nbformat": 4,
 "nbformat_minor": 2
}
