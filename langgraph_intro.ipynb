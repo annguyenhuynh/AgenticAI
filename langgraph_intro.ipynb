{
 "cells": [
  {
   "cell_type": "markdown",
   "metadata": {},
   "source": [
    "## 1. Why do we need RAG (Retrieval Augmented Generation)?\n",
    "\n",
    "* Avoid the halluciation of the LLM model by:\n",
    "    * Providing external data (our data source may not provide enough context to the model)\n",
    "    * Plug-in domain-knowledge base to generate context-aware answer\n",
    "* Avoid retraining the whole model, just need to update the external knowledge base\n",
    "* Pipeline:\n",
    "    * Data source --> database --> chunking and embedding --> vector db --> provide relevant data to LLM model.\n",
    "    * Inside the vector db, we perform similarity search"
   ]
  },
  {
   "cell_type": "markdown",
   "metadata": {},
   "source": [
    "## 2. Agents (https://www.ibm.com/think/topics/ai-agents-vs-ai-assistants#7281536)\n",
    "\n",
    "* An AI agent refers to a system or program that can autonomously complete tasks on behalf of users or another system by designing its own workflow and by using available tools.\n",
    "\n",
    "* AI agents can encompass a wide range of functions beyond NLP. These include decision-making, problem-solving, interacting with external environments and executing actions. "
   ]
  },
  {
   "cell_type": "markdown",
   "metadata": {},
   "source": [
    "## 3. Creating Tools"
   ]
  },
  {
   "cell_type": "code",
   "execution_count": 17,
   "metadata": {},
   "outputs": [],
   "source": [
    "from langchain_community.tools import ArxivQueryRun, WikipediaQueryRun \n",
    "from langchain_community.utilities import WikipediaAPIWrapper, ArxivAPIWrapper"
   ]
  },
  {
   "cell_type": "code",
   "execution_count": 18,
   "metadata": {},
   "outputs": [
    {
     "name": "stdout",
     "output_type": "stream",
     "text": [
      "arxiv\n"
     ]
    }
   ],
   "source": [
    "arxiv_wrapper = ArxivAPIWrapper(top_k_results=2, doc_content_chars_max=500)\n",
    "arxiv = ArxivQueryRun(api_wrapper=arxiv_wrapper,description=\"Query Arxiv Papers\")\n",
    "print(arxiv.name)"
   ]
  },
  {
   "cell_type": "code",
   "execution_count": 19,
   "metadata": {},
   "outputs": [
    {
     "data": {
      "text/plain": [
       "\"Published: 2024-07-22\\nTitle: Attention Is All You Need But You Don't Need All Of It For Inference of Large Language Models\\nAuthors: Georgy Tyukin, Gbetondji J-S Dovonon, Jean Kaddour, Pasquale Minervini\\nSummary: The inference demand for LLMs has skyrocketed in recent months, and serving\\nmodels with low latencies remains challenging due to the quadratic input length\\ncomplexity of the attention layers. In this work, we investigate the effect of\\ndropping MLP and attention layers at inference time o\""
      ]
     },
     "execution_count": 19,
     "metadata": {},
     "output_type": "execute_result"
    }
   ],
   "source": [
    "arxiv.invoke(\"Attention is all you need\")"
   ]
  },
  {
   "cell_type": "code",
   "execution_count": 20,
   "metadata": {},
   "outputs": [
    {
     "data": {
      "text/plain": [
       "'Published: 2023-05-23\\nTitle: Fast and energy-efficient non-volatile III-V-on-silicon photonic phase shifter based on memristors\\nAuthors: Zhuoran Fang, Bassem Tossoun, Antoine Descos, Di Liang, Xue Huang, Geza Kurczveil, Arka Majumdar, Raymond G. Beausoleil\\nSummary: Silicon photonics has evolved from lab research to commercial products in the\\npast decade as it plays an increasingly crucial role in data communication for\\nnext-generation data centers and high performance computing1. Recently,\\nprogr'"
      ]
     },
     "execution_count": 20,
     "metadata": {},
     "output_type": "execute_result"
    }
   ],
   "source": [
    "arxiv.invoke(\"What is the latest research on quantum computing?\")"
   ]
  },
  {
   "cell_type": "code",
   "execution_count": 21,
   "metadata": {},
   "outputs": [
    {
     "data": {
      "text/plain": [
       "'wikipedia'"
      ]
     },
     "execution_count": 21,
     "metadata": {},
     "output_type": "execute_result"
    }
   ],
   "source": [
    "wikipedia_wrapper = WikipediaAPIWrapper(top_k_results=2, doc_content_chars_max=500)\n",
    "wiki = WikipediaQueryRun(api_wrapper=wikipedia_wrapper)\n",
    "wiki.name"
   ]
  },
  {
   "cell_type": "code",
   "execution_count": 22,
   "metadata": {},
   "outputs": [
    {
     "data": {
      "text/plain": [
       "True"
      ]
     },
     "execution_count": 22,
     "metadata": {},
     "output_type": "execute_result"
    }
   ],
   "source": [
    "import os \n",
    "import dotenv \n",
    "from dotenv import load_dotenv \n",
    "\n",
    "load_dotenv()"
   ]
  },
  {
   "cell_type": "code",
   "execution_count": 23,
   "metadata": {},
   "outputs": [],
   "source": [
    "os.environ[\"GROQ_API_KEY\"] = os.getenv(\"GROQ_API_KEY\")\n",
    "os.environ[\"TAVILY_API_KEY\"] = os.getenv(\"TAVILY_API_KEY\")"
   ]
  },
  {
   "cell_type": "code",
   "execution_count": 24,
   "metadata": {},
   "outputs": [],
   "source": [
    "from langchain_community.tools.tavily_search import TavilySearchResults \n",
    "\n",
    "tavily = TavilySearchResults()"
   ]
  },
  {
   "cell_type": "code",
   "execution_count": 25,
   "metadata": {},
   "outputs": [
    {
     "data": {
      "text/plain": [
       "[{'title': 'The 2025 AI Index Report | Stanford HAI',\n",
       "  'url': 'https://hai.stanford.edu/ai-index/2025-ai-index-report',\n",
       "  'content': 'In 2023, researchers introduced new benchmarks—MMMU, GPQA, and SWE-bench—to test the limits of advanced AI systems. Just a year later, performance sharply increased: scores rose by 18.8, 48.9, and 67.3 percentage points on MMMU, GPQA, and SWE-bench, respectively. Beyond benchmarks, AI systems made major strides in generating high-quality video, and in some settings, language model agents even outperformed humans in programming tasks with limited time budgets. [...] ### 2. AI is increasingly embedded in everyday life.\\n\\nFrom healthcare to transportation, AI is rapidly moving from the lab to daily life. In 2023, the FDA approved 223 AI-enabled medical devices, up from just six in 2015. On the roads, self-driving cars are no longer experimental: Waymo, one of the largest U.S. operators, provides over 150,000 autonomous rides each week, while Baidu’s affordable Apollo Go robotaxi fleet now serves numerous cities across China. [...] In 2024, U.S.-based institutions produced 40 notable AI models, significantly outpacing China’s 15 and Europe’s three. While the U.S. maintains its lead in quantity, Chinese models have rapidly closed the quality gap: performance differences on major benchmarks such as MMLU and HumanEval shrank from double digits in 2023 to near parity in 2024. Meanwhile, China continues to lead in AI publications and patents. At the same time, model development is increasingly global, with notable launches',\n",
       "  'score': 0.3996482},\n",
       " {'title': 'The Latest AI News and AI Breakthroughs that Matter Most: 2025',\n",
       "  'url': 'https://www.crescendo.ai/news/latest-ai-news-and-updates',\n",
       "  'content': 'Summary: AWS research shows that between 2024 and 2025, 1.3 million Australian businesses, about 50%, will now use AI solutions, with one adopting every three',\n",
       "  'score': 0.38831696},\n",
       " {'title': 'Future of AI: 7 Key AI Trends For 2025 & 2026 - Exploding Topics',\n",
       "  'url': 'https://explodingtopics.com/blog/future-of-ai',\n",
       "  'content': 'undefined  \\nUsing an AI coding platform such as GitHub’s Copilot can lead to faster completion of coding tasks and less attention to repetitive tasks.\\n\\nundefined\\n\\nOpenAI did have a specialized Codex tool for code generation. But it was deprecated last year, in part because the latest versions of ChatGPT are more than capable of deployment in software development.\\n\\nA recent study found that ChatGPT could solve certain coding problems at a success rate of 89%. [...] Exscientia, an AI drug discovery company founded in 2012, currently has two drugs in human trials, one aimed at treating cancer and one aimed at treating inflammatory diseases.\\n\\nundefined  \\nSearch volume for “Exscientia” has jumped 529% in the past 5 years.\\n\\nundefined\\n\\nThe company spent $29.8 million on further research and development in Q1 2024.\\n\\nAnd Nvidia and Pfizer recently invested $80 million into another AI drug discovery business, CytoReason. [...] undefined\\n\\nIn one current example, Avenda Health has launched an AI platform for managing and treating prostate cancer.\\n\\nThe solution combines patient data, imaging, biopsies, and pathology into a deep-learning algorithm. It then determines the extent of the cancer and creates a 3D cancer estimation map along with optimal treatment possibilities.',\n",
       "  'score': 0.3775871},\n",
       " {'title': 'Artificial Intelligence - arXiv',\n",
       "  'url': 'https://arxiv.org/list/cs.AI/recent',\n",
       "  'content': \"Cornell University\\narxiv logo\\n\\nHelp | Advanced Search\\n\\narXiv logo\\nCornell University Logo\\n\\n## quick links\\n\\n# Artificial Intelligence\\n\\n## Authors and titles for recent submissions\\n\\nSee today's new changes\\n\\n### Mon, 8 Sep 2025 (showing first 50 of 123 entries )\\n\\narXiv Operational Status   \\nGet status notifications via\\nemail\\nor slack\",\n",
       "  'score': 0.18616937},\n",
       " {'title': 'Journal of Artificial Intelligence Research',\n",
       "  'url': 'https://www.jair.org/',\n",
       "  'content': \"The journal's scope encompasses all areas of AI, including agents and multi-agent systems, automated reasoning, constraint processing and search, knowledge\",\n",
       "  'score': 0.15699492}]"
      ]
     },
     "execution_count": 25,
     "metadata": {},
     "output_type": "execute_result"
    }
   ],
   "source": [
    "tavily.invoke(\"Provide recent AI research\")"
   ]
  },
  {
   "cell_type": "markdown",
   "metadata": {},
   "source": [
    "#### 3.1 Combining tools in the list"
   ]
  },
  {
   "cell_type": "code",
   "execution_count": 26,
   "metadata": {},
   "outputs": [],
   "source": [
    "tools = [arxiv,wiki,tavily]"
   ]
  },
  {
   "cell_type": "code",
   "execution_count": 29,
   "metadata": {},
   "outputs": [],
   "source": [
    "## Initialize LLM models\n",
    "\n",
    "from langchain_groq import ChatGroq \n",
    "\n",
    "llm_model = ChatGroq(model=\"qwen/qwen3-32b\")"
   ]
  },
  {
   "cell_type": "code",
   "execution_count": 30,
   "metadata": {},
   "outputs": [
    {
     "data": {
      "text/plain": [
       "AIMessage(content='<think>\\nOkay, the user asked me, \"What is AI?\" First, I need to figure out what they\\'re really asking for. They might be a student starting to learn about AI or someone who hears the term often but isn\\'t sure what it means. I should start with a basic definition, maybe mention machine learning and neural networks.\\n\\nWait, should I include the history? Like when AI was first introduced in the 1950s? That could give context. Also, the different types of AI—narrow vs. general. Maybe explain the difference because people often confuse AI with human-like intelligence.\\n\\nExamples would help. Like how AI is used in everyday applications: voice assistants, recommendation systems, self-driving cars. That makes it more relatable. Also, mention some key techniques such as deep learning and natural language processing. But I should avoid getting too technical unless they ask for more details.\\n\\nI should also touch on the current state of AI. It\\'s mostly Narrow AI right now, not the superintelligent kind. Maybe address some common misconceptions, like AI not being sentient. Plus, the ethical considerations and challenges—data privacy, bias in algorithms. That shows a balanced view.\\n\\nWait, the user might be interested in the impact of AI on jobs or society. Should I include that? Maybe briefly mention both positive and negative impacts. Also, future possibilities but clarify what\\'s realistic versus speculative.\\n\\nNeed to structure this clearly. Start with a definition, then break down components, applications, types, and challenges. Keep it conversational but informative. Avoid jargon where possible. Let me check if I\\'m missing any key points. Oh, maybe mention that AI is a broad field with various subfields. Yes, that\\'s important.\\n\\nAlright, putting it all together in a coherent way. Make sure each section flows into the next. Start simple, then build up. End with a summary to reinforce the main points. Double-check for accuracy—no mistakes in the examples or technical terms. Okay, ready to draft the response.\\n</think>\\n\\n**What is AI?**  \\nArtificial Intelligence (AI) refers to the development of computer systems capable of performing tasks that typically require human intelligence—such as learning, reasoning, problem-solving, perception, language processing, and decision-making. At its core, AI aims to simulate human cognitive functions using algorithms and data.\\n\\n### Key Components of AI:\\n1. **Machine Learning (ML):** A subset of AI where systems learn patterns from data, improving performance over time without being explicitly programmed.  \\n   - *Example:* Recommending movies on Netflix based on your watch history.  \\n2. **Deep Learning:** A type of ML inspired by the structure of the brain (neural networks), particularly effective for tasks like image and speech recognition.  \\n3. **Natural Language Processing (NLP):** Enables machines to understand and generate human language (e.g., chatbots, translation tools).  \\n4. **Computer Vision:** Allows machines to interpret and analyze visual data (e.g., facial recognition, object detection).  \\n\\n### Types of AI:\\n- **Narrow AI (Weak AI):** Designed for specific tasks (e.g., voice assistants like Siri, spam filters). **This is the most common form today.**  \\n- **General AI (Strong AI):** Hypothetical AI that can perform any intellectual task a human can. **This remains a theoretical goal.**  \\n- **Artificial Superintelligence (ASI):** A speculative future form of AI that surpasses human intelligence in all aspects.  \\n\\n### Real-World Applications:\\n- **Healthcare:** Diagnosing diseases, drug discovery.  \\n- **Transportation:** Autonomous vehicles (e.g., Tesla’s self-driving systems).  \\n- **Finance:** Fraud detection, algorithmic trading.  \\n- **Retail:** Personalized shopping recommendations.  \\n- **Entertainment:** Content creation (e.g., AI-generated art, music).  \\n\\n### Challenges and Ethical Considerations:\\n- **Bias and Fairness:** AI systems can inherit biases from training data.  \\n- **Privacy:** Risks of misuse in surveillance or data exploitation.  \\n- **Job Displacement:** Automation may disrupt certain industries.  \\n- **Transparency:** \"Black box\" algorithms can be hard to interpret.  \\n\\n### Current Limitations:\\nToday’s AI is **narrow** and lacks human-like generalization, creativity, and emotional understanding. For example, a self-driving car can’t reason like a human driver in unpredictable situations.  \\n\\n### Future Outlook:\\nAI is rapidly evolving, with ongoing research into making systems more efficient, ethical, and adaptable. While breakthroughs are promising, achieving General AI remains a long-term challenge.  \\n\\nIn short, AI is a transformative technology reshaping industries, but its potential and risks depend heavily on how it’s developed and governed. Let me know if you\\'d like deeper insights into any specific area! 😊', additional_kwargs={}, response_metadata={'token_usage': {'completion_tokens': 997, 'prompt_tokens': 12, 'total_tokens': 1009, 'completion_time': 2.424758222, 'prompt_time': 0.012541349, 'queue_time': 0.183710601, 'total_time': 2.437299571}, 'model_name': 'qwen/qwen3-32b', 'system_fingerprint': 'fp_5cf921caa2', 'service_tier': 'on_demand', 'finish_reason': 'stop', 'logprobs': None}, id='run--fa81d42b-b70e-4f7b-b2c2-8824fe004450-0', usage_metadata={'input_tokens': 12, 'output_tokens': 997, 'total_tokens': 1009})"
      ]
     },
     "execution_count": 30,
     "metadata": {},
     "output_type": "execute_result"
    }
   ],
   "source": [
    "llm_model.invoke(\"What is AI?\")"
   ]
  },
  {
   "cell_type": "code",
   "execution_count": 31,
   "metadata": {},
   "outputs": [],
   "source": [
    "model_with_tools = llm_model.bind_tools(tools=tools)"
   ]
  },
  {
   "cell_type": "code",
   "execution_count": 33,
   "metadata": {},
   "outputs": [
    {
     "data": {
      "text/plain": [
       "AIMessage(content='', additional_kwargs={'reasoning_content': 'Okay, the user is asking for recent news on AI. I need to figure out which tool to use here. Let me check the available tools. There\\'s Tavily Search, which is optimized for current events. That sounds right because the user wants the latest news. Arxiv is for academic papers, and Wikipedia is for general knowledge, but not the most recent events. So I should use Tavily Search. The query parameter should be \"recent news on AI\". Let me structure the tool call accordingly.\\n', 'tool_calls': [{'id': 'kyvsjqnsn', 'function': {'arguments': '{\"query\":\"recent news on AI\"}', 'name': 'tavily_search_results_json'}, 'type': 'function'}]}, response_metadata={'token_usage': {'completion_tokens': 135, 'prompt_tokens': 354, 'total_tokens': 489, 'completion_time': 0.247472063, 'prompt_time': 0.126999144, 'queue_time': 0.230220665, 'total_time': 0.374471207}, 'model_name': 'qwen/qwen3-32b', 'system_fingerprint': 'fp_5cf921caa2', 'service_tier': 'on_demand', 'finish_reason': 'tool_calls', 'logprobs': None}, id='run--eff28cc1-79aa-4a09-bb98-e0083176df24-0', tool_calls=[{'name': 'tavily_search_results_json', 'args': {'query': 'recent news on AI'}, 'id': 'kyvsjqnsn', 'type': 'tool_call'}], usage_metadata={'input_tokens': 354, 'output_tokens': 135, 'total_tokens': 489})"
      ]
     },
     "execution_count": 33,
     "metadata": {},
     "output_type": "execute_result"
    }
   ],
   "source": [
    "# Execute \n",
    "model_with_tools.invoke(\"What is the recent news on AI?\")"
   ]
  },
  {
   "cell_type": "markdown",
   "metadata": {},
   "source": [
    "## 4. Workflow\n",
    "\n",
    "* Start [Prompt] --> AI assistant and Tools  --> End"
   ]
  },
  {
   "cell_type": "code",
   "execution_count": null,
   "metadata": {},
   "outputs": [],
   "source": [
    "from typing_extensions import TypedDict \n",
    "from langchain_core.messages import AnyMessage      #Human message or AI message\n",
    "from typing import Annotated                        # Labelling\n",
    "from langgraph.graph.message import add_messages   # Reducers in Langgraph"
   ]
  },
  {
   "cell_type": "code",
   "execution_count": 52,
   "metadata": {},
   "outputs": [],
   "source": [
    "# Define state schema\n",
    "\n",
    "class State(TypedDict):\n",
    "    messages: Annotated[list[AnyMessage], add_messages]\n"
   ]
  },
  {
   "cell_type": "code",
   "execution_count": 53,
   "metadata": {},
   "outputs": [],
   "source": [
    "## Entire chatbot with LangGraph\n",
    "from IPython.display import Image, display \n",
    "from langgraph.graph import StateGraph, START, END\n",
    "from langgraph.prebuilt import ToolNode, tools_condition"
   ]
  },
  {
   "cell_type": "code",
   "execution_count": 54,
   "metadata": {},
   "outputs": [
    {
     "data": {
      "image/png": "[encoded data removed]",
      "text/plain": [
       "<IPython.core.display.Image object>"
      ]
     },
     "metadata": {},
     "output_type": "display_data"
    }
   ],
   "source": [
    "# Define Node\n",
    "def tool_calling_llm(state: State):\n",
    "    return {\"messages\": model_with_tools.invoke(state[\"messages\"])}\n",
    "\n",
    "# Build Graph\n",
    "builder = StateGraph(State)\n",
    "builder.add_node(\"tool_calling_llm\", tool_calling_llm)\n",
    "builder.add_node(\"tools\", ToolNode(tools))\n",
    "\n",
    "# Edges\n",
    "builder.add_edge(START,\"tool_calling_llm\")\n",
    "builder.add_conditional_edges(\n",
    "    \"tool_calling_llm\",\n",
    "    tools_condition\n",
    ")\n",
    "builder.add_edge(\"tools\", END)\n",
    "\n",
    "graph = builder.compile()\n",
    "\n",
    "display(Image(graph.get_graph().draw_mermaid_png()))"
   ]
  },
  {
   "cell_type": "code",
   "execution_count": 56,
   "metadata": {},
   "outputs": [
    {
     "name": "stdout",
     "output_type": "stream",
     "text": [
      "================================\u001b[1m Human Message \u001b[0m=================================\n",
      "\n",
      "1706.03762\n",
      "==================================\u001b[1m Ai Message \u001b[0m==================================\n",
      "Tool Calls:\n",
      "  arxiv (05dfta24f)\n",
      " Call ID: 05dfta24f\n",
      "  Args:\n",
      "    query: 1706.03762\n",
      "=================================\u001b[1m Tool Message \u001b[0m=================================\n",
      "Name: arxiv\n",
      "\n",
      "Published: 2023-08-02\n",
      "Title: Attention Is All You Need\n",
      "Authors: Ashish Vaswani, Noam Shazeer, Niki Parmar, Jakob Uszkoreit, Llion Jones, Aidan N. Gomez, Lukasz Kaiser, Illia Polosukhin\n",
      "Summary: The dominant sequence transduction models are based on complex recurrent or\n",
      "convolutional neural networks in an encoder-decoder configuration. The best\n",
      "performing models also connect the encoder and decoder through an attention\n",
      "mechanism. We propose a new simple network architecture, the Transformer, base\n"
     ]
    }
   ],
   "source": [
    "from langchain.schema import HumanMessage, AIMessage, SystemMessage\n",
    "\n",
    "result = graph.invoke({\"messages\": [HumanMessage(content=\"1706.03762\")]})\n",
    "\n",
    "for m in result[\"messages\"]:\n",
    "    m.pretty_print()"
   ]
  },
  {
   "cell_type": "code",
   "execution_count": 58,
   "metadata": {},
   "outputs": [
    {
     "name": "stdout",
     "output_type": "stream",
     "text": [
      "================================\u001b[1m Human Message \u001b[0m=================================\n",
      "\n",
      "Hi, my name is An\n",
      "==================================\u001b[1m Ai Message \u001b[0m==================================\n",
      "\n",
      "Hello An! How can I assist you today?\n"
     ]
    }
   ],
   "source": [
    "result = graph.invoke({\"messages\": \"Hi, my name is An\"})\n",
    "\n",
    "for m in result[\"messages\"]:\n",
    "    m.pretty_print()"
   ]
  }
 ],
 "metadata": {
  "kernelspec": {
   "display_name": "venv",
   "language": "python",
   "name": "python3"
  },
  "language_info": {
   "codemirror_mode": {
    "name": "ipython",
    "version": 3
   },
   "file_extension": ".py",
   "mimetype": "text/x-python",
   "name": "python",
   "nbconvert_exporter": "python",
   "pygments_lexer": "ipython3",
   "version": "3.13.5"
  }
 },
 "nbformat": 4,
 "nbformat_minor": 2
}
